{
 "cells": [
  {
   "cell_type": "markdown",
   "metadata": {},
   "source": [
    "# Modeling multiple systems with system losses\n",
    "\n",
    "This tutorial provides an outline of techniques to model single inverter systems with multiple strings. \n",
    "\n",
    "A number of complexities are included:\n",
    "\n",
    "- Converting a CSV to a dictionary of system losses\n",
    "- Modeling multiple systems at a time\n",
    "- Modeling inverters with temperature derating applied to maximum power output\n"
   ]
  },
  {
   "cell_type": "code",
   "execution_count": 1,
   "metadata": {
    "collapsed": false,
    "scrolled": true
   },
   "outputs": [],
   "source": [
    "# built-in imports\n",
    "import sys\n",
    "import datetime\n",
    "import os.path\n",
    "import inspect\n",
    "\n",
    "# add-on imports\n",
    "import pandas as pd\n",
    "import matplotlib\n",
    "import matplotlib.pyplot as plt\n",
    "%matplotlib inline\n",
    "try:\n",
    "    import seaborn as sns\n",
    "    sns.set(rc={\"figure.figsize\": (12, 6)})\n",
    "    sns.set_color_codes()\n",
    "except ImportError:\n",
    "    print('We suggest you install seaborn using conda or pip and rerun this cell')\n",
    "\n",
    "import numpy as np\n",
    "\n",
    "# pvlib imports\n",
    "from pvlib.location import Location\n",
    "import pvlib.solarposition\n",
    "import pvlib.clearsky\n",
    "import pvlib.tmy\n",
    "\n",
    "import logging\n",
    "logging.getLogger('pvlib').setLevel(logging.WARNING) # WARNING to avoid clearsky output, INFO or DEBUG for more\n",
    "\n"
   ]
  },
  {
   "cell_type": "markdown",
   "metadata": {},
   "source": [
    "# Import site configuration data\n",
    "\n",
    "The dictionary holding the configuration data below is a beginning point to discuss a structure for system losses. It will likely be improved upon and standardized in the future. "
   ]
  },
  {
   "cell_type": "code",
   "execution_count": 67,
   "metadata": {
    "collapsed": false
   },
   "outputs": [],
   "source": [
    "# Replaces all punctuation in equipment (module/inverter) names with underscores to match Sandia databases\n",
    "def clean_punc(equip):\n",
    "    equip = equip.replace(' ', '_').replace('-', '_').replace('.', '_').replace('(', '_').replace('/', '_')\n",
    "    equip = equip.replace(')', '_').replace('[', '_').replace(']', '_').replace(':', '_').replace('+', '_')\n",
    "    equip = equip.replace('\"', '_')\n",
    "    return equip\n",
    "\n",
    "\n",
    "# Find the absolute file path to your pvlib installation\n",
    "pvlib_abspath = os.path.dirname(os.path.abspath(inspect.getfile(pvlib)))\n",
    "\n",
    "# absolute path to a data file\n",
    "# datapath = os.path.join(pvlib_abspath, 'data', 'site_config.csv')\n",
    "\n",
    "# Import site config data, skipping any row starting with #\n",
    "# In this file, each line represents a site with one inverter\n",
    "site_config = pd.read_csv('site_config.csv')\n",
    "\n",
    "# Solar position code needs a Location object\n",
    "m = pvlib.location.Location(np.array(site_config[site_config['Parameter'] == 'Latitude'].Value)[0], \n",
    "                            np.array(site_config[site_config['Parameter'] == 'Longitude'].Value)[0], \n",
    "                            np.array(site_config[site_config['Parameter'] == 'Timezone'].Value)[0], \n",
    "                            float(site_config[site_config['Parameter'] == 'Elev (meters)'].Value), \n",
    "                            np.array(site_config[site_config['Parameter'] == 'Plant Name'].Value)[0]) ## One common name for site\n",
    "\n",
    "# Systemdef needs a dict instead of a Location object\n",
    "s = pvlib.pvsystem.systemdef({'latitude': np.array(site_config[site_config['Parameter'] == 'Latitude'].Value)[0],\n",
    "                              'longitude': np.array(site_config[site_config['Parameter'] == 'Longitude'].Value)[0],\n",
    "                              'altitude': float(site_config[site_config['Parameter'] == 'Elev (meters)'].Value),\n",
    "                              'TZ': np.array(site_config[site_config['Parameter'] == 'Timezone'].Value)[0],\n",
    "                              'Name': np.array(site_config[site_config['Parameter'] == 'Plant Name'].Value)[0]}, ## Specific name for subarray\n",
    "                             int(np.array(site_config[site_config['Parameter'] =='surface_tilt'].Value)[0]),\n",
    "                             int(np.array(site_config[site_config['Parameter'] == 'surface_azimuth'].Value)[0]),\n",
    "                             float(np.array(site_config[site_config['Parameter'] == 'albedo'].Value)[0]),\n",
    "                             int(np.array(site_config[site_config['Parameter'] == 'series_modules'].Value)[0]),\n",
    "                             float(np.array(site_config[site_config['Parameter'] == 'parallel_modules'].Value)[0]))\n",
    "# Other equipment information that isn't stored in systemdef\n",
    "e = {'module_name': clean_punc(np.array(site_config[site_config['Parameter'] == 'module_name'].Value)[0]), \n",
    "     'module_count': int(np.array(site_config[site_config['Parameter'] == 'module_count'].Value)[0]),\n",
    "     'module_wattage': float(np.array(site_config[site_config['Parameter'] == 'module_wattage'].Value)[0]),\n",
    "     'inverter_name': clean_punc(np.array(site_config[site_config['Parameter'] == 'inverter_name'].Value)[0]), \n",
    "     'inverter_count': int(np.array(site_config[site_config['Parameter'] == 'inverter_count'].Value)[0]), \n",
    "     'inverter_pmax': int(np.array(site_config[site_config['Parameter'] == 'inv_pmax'].Value)[0]),\n",
    "     'inverter_pnom': int(np.array(site_config[site_config['Parameter'] == 'inv_pnom'].Value)[0]), # in kW in config file\n",
    "     'inverter_pmax_default': int(np.array(site_config[site_config['Parameter'] == 'inv_pmax_default'].Value)[0]), # in kW in config file\n",
    "     'inverter_pmax_temp': int(np.array(site_config[site_config['Parameter'] == 'inv_pmax_temp'].Value)[0]),\n",
    "     'inverter_pnom_temp': int(np.array(site_config[site_config['Parameter'] == 'inv_pnom_temp'].Value)[0]),\n",
    "     'row_pitch': float(np.array(site_config[site_config['Parameter'] == 'pitch'].Value)[0])}\n",
    "# # System Losses\n",
    "# q = {'soiling': float(site_config[site_config['Plant Name'] == n].iloc[0]['Soiling']),\n",
    "#      'dcohmic': float(site_config[site_config['Plant Name'] == n].iloc[0]['DCOhmic']),\n",
    "#      'mqf': float(site_config[site_config['Plant Name'] == n].iloc[0]['MQF']),\n",
    "#      'lid': float(site_config[site_config['Plant Name'] == n].iloc[0]['LID']),\n",
    "#      'mismatch': float(site_config[site_config['Plant Name'] == n].iloc[0]['Mismatch']),\n",
    "#      'acohmic': float(site_config[site_config['Plant Name'] == n].iloc[0]['ACOhmic']),\n",
    "#      'mvload': float(site_config[site_config['Plant Name'] == n].iloc[0]['MVLoad']),\n",
    "#     }\n",
    "meta = [s,e]\n",
    "\n",
    "# # Load Module and Inverter dbs\n",
    "# ## Direct from Sandia, or can download locally and provide filename -- much faster\n",
    "# moddb = pvlib.pvsystem.retrieve_sam(name='CECMod')\n",
    "# invdb = pvlib.pvsystem.retrieve_sam(name='CECInverter')\n",
    "\n",
    "# # Confirm sites loaded, and Lat/Long\n",
    "# for n in site_names:\n",
    "#     print(meta[n][1]['name'],\": \",meta[n][1]['latitude'], meta[n][1]['longitude'])"
   ]
  },
  {
   "cell_type": "markdown",
   "metadata": {},
   "source": [
    "# Define key system model method\n",
    "\n",
    "This method takes system configuration information and applies it to the environmental data to create modeled power for each time sample. It can be used with standard TMY3 hour data, or finer grain environmental data, if available.\n",
    "\n",
    "Note that the meta defined in this method is a subset of the meta defined in the overarching script."
   ]
  },
  {
   "cell_type": "code",
   "execution_count": 37,
   "metadata": {
    "collapsed": false
   },
   "outputs": [],
   "source": [
    "def subarray(meta, d, module_type, inverter_type, \n",
    "             inv_pmax, inv_pnom, inv_pmax_default, inv_pmax_temp, inv_pnom_temp,\n",
    "             pitch, col, losses):\n",
    "    df = d\n",
    "    # Find Isc at STC for DC ohmic loss estimate\n",
    "    IL,I0,Rs,Rsh,nNsVth=pvlib.pvsystem.calcparams_desoto(poa_global=1000,\n",
    "                                                         temp_cell=25,\n",
    "                                                         alpha_isc=.003,\n",
    "                                                         module_parameters=module_type,\n",
    "                                                         EgRef=1.121,\n",
    "                                                         dEgdT= -0.0002677)\n",
    "    DFOut = pvlib.pvsystem.singlediode(module_type, IL, I0, Rs, Rsh, nNsVth)\n",
    "    stc_i_sc = DFOut['i_sc']\n",
    "    # Calculate Isc for entire array by multiplying Isc by number of parallel modules (actually strings)\n",
    "    # Used as basis to scale DC and AC ohmic losses\n",
    "    stc_array_i_sc = stc_i_sc * meta['parallel_modules']\n",
    "\n",
    "    # Calculate IAM\n",
    "    df['IAMa'] = pvlib.pvsystem.ashraeiam(b = 0.05, aoi = df['AOI'])\n",
    "    df['IAMa'].fillna(0, inplace=True)\n",
    "\n",
    "    # Soiling\n",
    "    df['Soiling'] = 1 - losses['soiling']\n",
    "\n",
    "    # Calculate module IV params for POA and temps experienced\n",
    "    IL,I0,Rs,Rsh,nNsVth=pvlib.pvsystem.calcparams_desoto(poa_global=df['poa_global'],\n",
    "                                                         temp_cell=df['tcell'],\n",
    "                                                         alpha_isc=.003,\n",
    "                                                         module_parameters=module_type,\n",
    "                                                         EgRef=1.121,\n",
    "                                                         dEgdT= -0.0002677)\n",
    "    DFOut = pvlib.pvsystem.singlediode(module_type, IL, I0, Rs, Rsh, nNsVth)\n",
    "    df['sd_i_mp'] = DFOut['i_mp']\n",
    "    df['sd_v_oc'] = DFOut['v_oc']\n",
    "    df['sd_v_mp'] = DFOut['v_mp']\n",
    "    df['sd_p_mp'] = DFOut['p_mp']\n",
    "    df['sd_i_x'] = DFOut['i_x']\n",
    "    df['sd_i_xx'] = DFOut['i_xx']\n",
    "\n",
    "\n",
    "    # Module Quality\n",
    "    df['MQF'] = 1 - losses['mqf']\n",
    "    # LID\n",
    "    df['LID'] = 1 - losses['lid']\n",
    "    # Mismatch\n",
    "    df['Mismatch'] = 1 - losses['mismatch']\n",
    "    # DC kW\n",
    "    df['sd_string_v_mp'] = meta['series_modules'] * df.sd_v_mp\n",
    "    df['sd_array_i_mp'] = meta['parallel_modules'] * df.sd_i_mp\n",
    "    # DC ohmic\n",
    "    df['DCohmic'] = 1 - losses['dcohmic'] * pow(df.sd_array_i_mp / stc_array_i_sc, 2)\n",
    "    df['sd_array_p_mp'] = df.sd_string_v_mp * df.sd_array_i_mp * df.DCohmic * df.MQF * df.LID * df.Mismatch\n",
    "    df['sd_array_kp_mp'] = df.sd_array_p_mp / 1000\n",
    "\n",
    "    # Temperature Derate of Inverter\n",
    "    # Approximating warmer temps input to inverter\n",
    "    df['Tinv'] = df['DryBulb'] + 4 \n",
    "    ## Model doesn't include sharp drop limit over 50C\n",
    "    # Calculate maximum clipping level based on temperature. Clip level is never lower than nominal inverter level (pmax).\n",
    "    def clip_level(tamb):\n",
    "        return min(inv_pmax,\n",
    "                   inv_pmax_default - max(tamb - inv_pmax_temp,0) * (inv_pmax_default - inv_pnom) / (inv_pnom_temp - inv_pmax_temp))/1000\n",
    "\n",
    "    df['ACPowerClipLevel'] = df['Tinv'].apply(clip_level)\n",
    "    # AC kW\n",
    "    df['ACPower'] = pvlib.pvsystem.snlinverter(v_dc = df.sd_string_v_mp,\n",
    "                                               p_dc = df.sd_array_p_mp,\n",
    "                                               inverter = inverter_type) / 1000\n",
    "    # Clip any ACPower values that exceed temperature bounded maximum\n",
    "    df['ACPowerClipped'] = pd.DataFrame([df['ACPower'], df['ACPowerClipLevel']]).min()\n",
    "\n",
    "    # AC ohmic\n",
    "    df['ACohmic'] = 1 - losses['acohmic'] * pow(df.sd_array_i_mp / stc_array_i_sc, 2) # Scaled by DC current as rough approximation\n",
    "\n",
    "    # MV Transformer\n",
    "    df['MVLoad'] = 1 - losses['mvload']\n",
    "\n",
    "    df['ArrayPower'] = df.ACPowerClipped * df.ACohmic * df.MVLoad\n"
   ]
  },
  {
   "cell_type": "markdown",
   "metadata": {},
   "source": [
    "# Load environmental data\n",
    "\n",
    "Data is a dictionary of DataFrames, with each site_name as a key. Plane of Array irradiance and module temperatures are calculated here as well."
   ]
  },
  {
   "cell_type": "code",
   "execution_count": 43,
   "metadata": {
    "collapsed": false
   },
   "outputs": [
    {
     "name": "stdout",
     "output_type": "stream",
     "text": [
      "System Name: Site 1: 500kWac\n",
      "\n",
      "System Name: Site 2: 880kWac\n",
      "\n",
      "System Name: Site 3: 660kWac\n",
      "\n"
     ]
    }
   ],
   "source": [
    "# Initialize the dataframe dictionary\n",
    "Data = {}\n",
    "\n",
    "# Find the absolute file path to your pvlib installation\n",
    "pvlib_abspath = os.path.dirname(os.path.abspath(inspect.getfile(pvlib)))\n",
    "\n",
    "# absolute path to a data file\n",
    "datapath = os.path.join(pvlib_abspath, 'data', '724839TYA.csv')\n",
    "\n",
    "# read tmy data with year values coerced to a single year\n",
    "tmy_data, meta_tmy = pvlib.tmy.readtmy3(datapath, coerce_year=2015)\n",
    "tmy_data.index.name = 'Time'\n",
    "\n",
    "# TMY data seems to be given as hourly data with time stamp at the end\n",
    "# shift the index 30 Minutes back for calculation of sun positions\n",
    "tmy_data = tmy_data.shift(freq='-30Min')\n",
    "\n",
    "for n in site_names:\n",
    "    print('System Name: ' + n + '\\n')\n",
    "    # Initialize dataset with environmental data\n",
    "    Data[n] = tmy_data\n",
    "    # Generate clear sky data for site to compare to POA sensors\n",
    "    # Calculate solar position using Ephemeris Calculations\n",
    "    solpos = pvlib.solarposition.get_solarposition(Data[n].index, meta[n][0], method='pyephem')\n",
    "    Data[n] = pd.concat([Data[n], solpos], axis=1)\n",
    "\n",
    "    # Calculate extraterrestrial radiation and air mass and AOI\n",
    "    Data[n]['HExtra']=pvlib.irradiance.extraradiation(Data[n].index)\n",
    "    Data[n]['AM']=pvlib.atmosphere.relativeairmass(zenith=Data[n].apparent_zenith)\n",
    "    Data[n]['AOI'] = pvlib.irradiance.aoi(meta[n][1]['surface_tilt'], \n",
    "                                          meta[n][1]['surface_azimuth'], \n",
    "                                          Data[n]['apparent_zenith'], \n",
    "                                          Data[n]['azimuth'])\n",
    "    # Calculate GHI clear sky\n",
    "    csky = pvlib.clearsky.ineichen(Data[n].index, meta[n][0])\n",
    "    csky.rename(columns=lambda x: 'cs_'+x, inplace=True)\n",
    "    Data[n] = pd.concat([Data[n], csky], axis=1)\n",
    "    # Generate POA clear sky\n",
    "    cs_poa = pvlib.irradiance.total_irrad(surface_tilt = meta[n][1]['surface_tilt'],\n",
    "                                          surface_azimuth = meta[n][1]['surface_azimuth'],\n",
    "                                          solar_zenith = Data[n].apparent_zenith,\n",
    "                                          solar_azimuth = Data[n].apparent_azimuth,\n",
    "                                          albedo = meta[n][1]['albedo'],\n",
    "                                          ghi = Data[n].cs_ghi,\n",
    "                                          dhi = Data[n].cs_dhi,\n",
    "                                          dni = Data[n].cs_dni,\n",
    "                                          dni_extra = Data[n].HExtra,\n",
    "                                          airmass=Data[n].AM, \n",
    "                                          model='perez')\n",
    "    cs_poa.rename(columns=lambda x: 'cs_poa_' + x, inplace=True)\n",
    "    Data[n] = pd.concat([Data[n], cs_poa], axis=1)       \n",
    "    \n",
    "    # Generate POA from GHI data\n",
    "    poa_sky_diffuse = pvlib.irradiance.haydavies(meta[n][1]['surface_tilt'], \n",
    "                                                 meta[n][1]['surface_azimuth'],\n",
    "                                                 Data[n]['DHI'], Data[n]['DNI'], Data[n]['HExtra'],\n",
    "                                                 Data[n]['apparent_zenith'], Data[n]['azimuth'])\n",
    "    poa_ground_diffuse = pvlib.irradiance.grounddiffuse(meta[n][1]['surface_tilt'], \n",
    "                                                        Data[n]['GHI'], \n",
    "                                                        albedo=meta[n][1]['albedo'])\n",
    "    poa_total = pvlib.irradiance.globalinplane(Data[n]['AOI'], Data[n]['DNI'], \n",
    "                                               poa_sky_diffuse, poa_ground_diffuse)\n",
    "    Data[n] = pd.concat([Data[n], poa_total], axis=1)    \n",
    "\n",
    "    # Calculate model cell temperature\n",
    "    tcells = pvlib.pvsystem.sapm_celltemp(irrad = Data[n]['poa_global'],\n",
    "                                          wind = Data[n]['Wspd'],\n",
    "                                          temp = Data[n]['DryBulb'],\n",
    "                                          model = 'Open_rack_cell_polymerback')\n",
    "    Data[n]['tcell'] = tcells['temp_cell']\n",
    "    Data[n]['tmodule'] = tcells['temp_module']\n",
    "             \n",
    "        \n"
   ]
  },
  {
   "cell_type": "markdown",
   "metadata": {},
   "source": [
    "## Run performance simulation for each array\n",
    "\n",
    "This method calls the modeling method, and compiles a smaller DataFrame of all the sites for graphing.\n",
    "\n",
    "Note that because Data[n] is a dictionary, it is modified by the modeling method, and doesn't need to be explicitly returned."
   ]
  },
  {
   "cell_type": "code",
   "execution_count": 46,
   "metadata": {
    "collapsed": false
   },
   "outputs": [
    {
     "name": "stdout",
     "output_type": "stream",
     "text": [
      "System Name: Site 1: 500kWac\n",
      "System Name: Site 2: 880kWac\n",
      "System Name: Site 3: 660kWac\n"
     ]
    }
   ],
   "source": [
    "# Initialize DataFrame for graphing\n",
    "graph_data = pd.DataFrame()\n",
    "\n",
    "for n in site_names:\n",
    "    print('System Name: ' + n)\n",
    "\n",
    "    # Load equipment coefficients\n",
    "    module = moddb[meta[n][2]['module_name']]\n",
    "    inverter = invdb[meta[n][2]['inverter_name']]\n",
    "    # Adjust max inverter output to match field settings\n",
    "    inverter.Paco = meta[n][2]['inverter_pmax']\n",
    "    \n",
    "    # Call modeling method \n",
    "    subarray(meta[n][1], Data[n], module, inverter, \n",
    "             meta[n][2]['inverter_pmax'], meta[n][2]['inverter_pnom'], meta[n][2]['inverter_pmax_default'],\n",
    "             meta[n][2]['inverter_pmax_temp'], meta[n][2]['inverter_pnom_temp'],\n",
    "             meta[n][2]['row_pitch'], meta[n][2]['collector'], meta[n][3])     \n",
    "\n",
    "    # Calculate kWh for each time sample\n",
    "    Data[n]['ModelEnergy'] = Data[n]['ArrayPower'] # hour data samples only -- e.g., divide by 4 for 15 minute samples\n",
    "    Data[n]['Name'] = n\n",
    "    \n",
    "    # Load key data points into a smaller data frame with all sites   \n",
    "    graph_data_n = pd.concat([Data[n]['Name'],Data[n]['poa_global'],Data[n]['ModelEnergy']],axis=1)\n",
    "    graph_data = pd.concat([graph_data,graph_data_n],axis=0)\n",
    "\n",
    "\n",
    "    \n",
    "    \n",
    "   "
   ]
  },
  {
   "cell_type": "markdown",
   "metadata": {},
   "source": [
    "# Plot plane of array irradiance vs output energy"
   ]
  },
  {
   "cell_type": "code",
   "execution_count": 47,
   "metadata": {
    "collapsed": false
   },
   "outputs": [
    {
     "data": {
      "text/plain": [
       "<seaborn.axisgrid.FacetGrid at 0x1160ec4e0>"
      ]
     },
     "execution_count": 47,
     "metadata": {},
     "output_type": "execute_result"
    },
    {
     "data": {
      "image/png": "[encoded data removed]",
      "text/plain": [
       "<matplotlib.figure.Figure at 0x1160cf630>"
      ]
     },
     "metadata": {},
     "output_type": "display_data"
    }
   ],
   "source": [
    "# Note that linear regression fit includes inverter clipping data as well as linear region\n",
    "# Usually the clipping region is removed from a linear regression fit of system performance. \n",
    "sns.lmplot(x=\"poa_global\", y=\"ModelEnergy\", col=\"Name\", hue=\"Name\", data=graph_data,\n",
    "            ci=None, palette=\"muted\", size=4,\n",
    "           scatter_kws={\"s\": 50, \"alpha\": 1})\n",
    "\n",
    "\n"
   ]
  },
  {
   "cell_type": "code",
   "execution_count": null,
   "metadata": {
    "collapsed": true
   },
   "outputs": [],
   "source": []
  }
 ],
 "metadata": {
  "kernelspec": {
   "display_name": "Python 3",
   "language": "python",
   "name": "python3"
  },
  "language_info": {
   "codemirror_mode": {
    "name": "ipython",
    "version": 3
   },
   "file_extension": ".py",
   "mimetype": "text/x-python",
   "name": "python",
   "nbconvert_exporter": "python",
   "pygments_lexer": "ipython3",
   "version": "3.7.1"
  }
 },
 "nbformat": 4,
 "nbformat_minor": 2
}
