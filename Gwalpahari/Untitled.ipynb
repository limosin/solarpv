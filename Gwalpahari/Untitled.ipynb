{
 "cells": [
  {
   "cell_type": "code",
   "execution_count": 9,
   "metadata": {},
   "outputs": [],
   "source": [
    "import numpy as np\n",
    "import pandas as pd\n",
    "import matplotlib.pyplot as plt\n",
    "%matplotlib inline\n",
    "import seaborn as sns\n",
    "import pvlib as pv\n",
    "import os\n",
    "import inspect\n",
    "# import pvlib"
   ]
  },
  {
   "cell_type": "code",
   "execution_count": 2,
   "metadata": {},
   "outputs": [],
   "source": [
    "# importing the combined dataset\n",
    "initial_load = pd.read_csv('Compiled.csv')"
   ]
  },
  {
   "cell_type": "code",
   "execution_count": 3,
   "metadata": {},
   "outputs": [
    {
     "name": "stdout",
     "output_type": "stream",
     "text": [
      "(721, 35)\n"
     ]
    }
   ],
   "source": [
    "print(initial_load.shape)"
   ]
  },
  {
   "cell_type": "code",
   "execution_count": 4,
   "metadata": {},
   "outputs": [
    {
     "data": {
      "text/html": [
       "<div>\n",
       "<style scoped>\n",
       "    .dataframe tbody tr th:only-of-type {\n",
       "        vertical-align: middle;\n",
       "    }\n",
       "\n",
       "    .dataframe tbody tr th {\n",
       "        vertical-align: top;\n",
       "    }\n",
       "\n",
       "    .dataframe thead th {\n",
       "        text-align: right;\n",
       "    }\n",
       "</style>\n",
       "<table border=\"1\" class=\"dataframe\">\n",
       "  <thead>\n",
       "    <tr style=\"text-align: right;\">\n",
       "      <th></th>\n",
       "      <th>TimeStamp</th>\n",
       "      <th>IntSolIrr</th>\n",
       "      <th>SMA-h-On</th>\n",
       "      <th>TmpMdul K</th>\n",
       "      <th>A.Ms.Amp</th>\n",
       "      <th>A.Ms.Vol</th>\n",
       "      <th>A.Ms.Watt</th>\n",
       "      <th>A1.Ms.Amp</th>\n",
       "      <th>B.Ms.Amp</th>\n",
       "      <th>B.Ms.Vol</th>\n",
       "      <th>...</th>\n",
       "      <th>GridMs.VA.phsC</th>\n",
       "      <th>GridMs.VAr.phsA</th>\n",
       "      <th>GridMs.VAr.phsB</th>\n",
       "      <th>GridMs.VAr.phsC</th>\n",
       "      <th>GridMs.W.phsA</th>\n",
       "      <th>GridMs.W.phsB</th>\n",
       "      <th>GridMs.W.phsC</th>\n",
       "      <th>Mode</th>\n",
       "      <th>Mt.TotOpTmh</th>\n",
       "      <th>Mt.TotTmh</th>\n",
       "    </tr>\n",
       "  </thead>\n",
       "  <tbody>\n",
       "    <tr>\n",
       "      <th>0</th>\n",
       "      <td>2017-01-25 07:15</td>\n",
       "      <td>0.00</td>\n",
       "      <td>6089.75</td>\n",
       "      <td>286.92</td>\n",
       "      <td>0.00</td>\n",
       "      <td>518.70</td>\n",
       "      <td>0.00</td>\n",
       "      <td>0.00</td>\n",
       "      <td>0.00</td>\n",
       "      <td>519.00</td>\n",
       "      <td>...</td>\n",
       "      <td>0.00</td>\n",
       "      <td>0.00</td>\n",
       "      <td>0.00</td>\n",
       "      <td>0.00</td>\n",
       "      <td>0.00</td>\n",
       "      <td>0.00</td>\n",
       "      <td>0.00</td>\n",
       "      <td>7: Warten</td>\n",
       "      <td>3195.08</td>\n",
       "      <td>3484.96</td>\n",
       "    </tr>\n",
       "    <tr>\n",
       "      <th>1</th>\n",
       "      <td>2017-01-25 07:30</td>\n",
       "      <td>2.96</td>\n",
       "      <td>6089.99</td>\n",
       "      <td>286.82</td>\n",
       "      <td>0.17</td>\n",
       "      <td>560.75</td>\n",
       "      <td>89.39</td>\n",
       "      <td>0.17</td>\n",
       "      <td>0.11</td>\n",
       "      <td>522.66</td>\n",
       "      <td>...</td>\n",
       "      <td>38.29</td>\n",
       "      <td>-14.00</td>\n",
       "      <td>-9.57</td>\n",
       "      <td>-9.79</td>\n",
       "      <td>38.36</td>\n",
       "      <td>37.14</td>\n",
       "      <td>37.36</td>\n",
       "      <td>1: Mpp</td>\n",
       "      <td>3195.21</td>\n",
       "      <td>3485.20</td>\n",
       "    </tr>\n",
       "    <tr>\n",
       "      <th>2</th>\n",
       "      <td>2017-01-25 07:45</td>\n",
       "      <td>13.53</td>\n",
       "      <td>6090.24</td>\n",
       "      <td>287.21</td>\n",
       "      <td>0.52</td>\n",
       "      <td>578.47</td>\n",
       "      <td>298.50</td>\n",
       "      <td>0.52</td>\n",
       "      <td>0.33</td>\n",
       "      <td>571.89</td>\n",
       "      <td>...</td>\n",
       "      <td>152.33</td>\n",
       "      <td>-21.33</td>\n",
       "      <td>-15.93</td>\n",
       "      <td>-15.13</td>\n",
       "      <td>156.37</td>\n",
       "      <td>152.73</td>\n",
       "      <td>152.33</td>\n",
       "      <td>1: Mpp</td>\n",
       "      <td>3195.46</td>\n",
       "      <td>3485.46</td>\n",
       "    </tr>\n",
       "    <tr>\n",
       "      <th>3</th>\n",
       "      <td>2017-01-25 08:00</td>\n",
       "      <td>26.30</td>\n",
       "      <td>6090.49</td>\n",
       "      <td>287.62</td>\n",
       "      <td>0.82</td>\n",
       "      <td>602.41</td>\n",
       "      <td>491.73</td>\n",
       "      <td>0.82</td>\n",
       "      <td>0.53</td>\n",
       "      <td>595.24</td>\n",
       "      <td>...</td>\n",
       "      <td>259.77</td>\n",
       "      <td>-15.53</td>\n",
       "      <td>-12.60</td>\n",
       "      <td>-10.33</td>\n",
       "      <td>265.40</td>\n",
       "      <td>262.33</td>\n",
       "      <td>259.77</td>\n",
       "      <td>1: Mpp</td>\n",
       "      <td>3195.72</td>\n",
       "      <td>3485.71</td>\n",
       "    </tr>\n",
       "    <tr>\n",
       "      <th>4</th>\n",
       "      <td>2017-01-25 08:15</td>\n",
       "      <td>43.14</td>\n",
       "      <td>6090.73</td>\n",
       "      <td>287.80</td>\n",
       "      <td>1.24</td>\n",
       "      <td>621.51</td>\n",
       "      <td>777.59</td>\n",
       "      <td>1.24</td>\n",
       "      <td>0.81</td>\n",
       "      <td>612.87</td>\n",
       "      <td>...</td>\n",
       "      <td>415.38</td>\n",
       "      <td>-11.10</td>\n",
       "      <td>-9.38</td>\n",
       "      <td>-8.69</td>\n",
       "      <td>418.62</td>\n",
       "      <td>416.00</td>\n",
       "      <td>415.45</td>\n",
       "      <td>1: Mpp</td>\n",
       "      <td>3195.96</td>\n",
       "      <td>3485.95</td>\n",
       "    </tr>\n",
       "  </tbody>\n",
       "</table>\n",
       "<p>5 rows × 35 columns</p>\n",
       "</div>"
      ],
      "text/plain": [
       "          TimeStamp  IntSolIrr  SMA-h-On  TmpMdul K  A.Ms.Amp  A.Ms.Vol  \\\n",
       "0  2017-01-25 07:15       0.00   6089.75     286.92      0.00    518.70   \n",
       "1  2017-01-25 07:30       2.96   6089.99     286.82      0.17    560.75   \n",
       "2  2017-01-25 07:45      13.53   6090.24     287.21      0.52    578.47   \n",
       "3  2017-01-25 08:00      26.30   6090.49     287.62      0.82    602.41   \n",
       "4  2017-01-25 08:15      43.14   6090.73     287.80      1.24    621.51   \n",
       "\n",
       "   A.Ms.Watt  A1.Ms.Amp  B.Ms.Amp  B.Ms.Vol    ...      GridMs.VA.phsC  \\\n",
       "0       0.00       0.00      0.00    519.00    ...                0.00   \n",
       "1      89.39       0.17      0.11    522.66    ...               38.29   \n",
       "2     298.50       0.52      0.33    571.89    ...              152.33   \n",
       "3     491.73       0.82      0.53    595.24    ...              259.77   \n",
       "4     777.59       1.24      0.81    612.87    ...              415.38   \n",
       "\n",
       "   GridMs.VAr.phsA  GridMs.VAr.phsB  GridMs.VAr.phsC  GridMs.W.phsA  \\\n",
       "0             0.00             0.00             0.00           0.00   \n",
       "1           -14.00            -9.57            -9.79          38.36   \n",
       "2           -21.33           -15.93           -15.13         156.37   \n",
       "3           -15.53           -12.60           -10.33         265.40   \n",
       "4           -11.10            -9.38            -8.69         418.62   \n",
       "\n",
       "   GridMs.W.phsB  GridMs.W.phsC       Mode  Mt.TotOpTmh  Mt.TotTmh  \n",
       "0           0.00           0.00  7: Warten      3195.08    3484.96  \n",
       "1          37.14          37.36     1: Mpp      3195.21    3485.20  \n",
       "2         152.73         152.33     1: Mpp      3195.46    3485.46  \n",
       "3         262.33         259.77     1: Mpp      3195.72    3485.71  \n",
       "4         416.00         415.45     1: Mpp      3195.96    3485.95  \n",
       "\n",
       "[5 rows x 35 columns]"
      ]
     },
     "execution_count": 4,
     "metadata": {},
     "output_type": "execute_result"
    }
   ],
   "source": [
    "initial_load.head()"
   ]
  },
  {
   "cell_type": "code",
   "execution_count": 5,
   "metadata": {},
   "outputs": [
    {
     "data": {
      "text/plain": [
       "[<matplotlib.lines.Line2D at 0x7f2ccc02ed30>]"
      ]
     },
     "execution_count": 5,
     "metadata": {},
     "output_type": "execute_result"
    },
    {
     "data": {
      "image/png": "[encoded data removed]",
      "text/plain": [
       "<Figure size 432x288 with 1 Axes>"
      ]
     },
     "metadata": {
      "needs_background": "light"
     },
     "output_type": "display_data"
    }
   ],
   "source": [
    "plt.plot(initial_load.IntSolIrr.values)"
   ]
  },
  {
   "cell_type": "markdown",
   "metadata": {},
   "source": [
    "---\n",
    "## Model for Predicting the output\n",
    "Location : Ghawalpuri NISE -> Surya Bhawan\n",
    "\n",
    "__Required Inputs__ \n",
    "- Latitude, Longitude, Altitude\n",
    "- Timezone (maybe)\n",
    "- Module model and Inverter model\n",
    "- Constant ambient air temp and wind speed.\n",
    "\n",
    "\n",
    "__Outputs__ \n",
    "- Energy obtained\n",
    "\n",
    "\n",
    "|    Quantity      |    Value    | Quantity |  Value           | Quantity |  Value          |\n",
    "|------------------|-------------|----------|------------------|----------|-----------------|\n",
    "|    Latitude      |28.425217    |Plant Capacity| 151.2 KWp    |No of Strings| 28|\n",
    "|    Longitude     |  77.151535  |Module Make | SOVA SOLAR     |Inverter-Make| SMA-Germany|\n",
    "|    Altitude      |   257 m     |No of Modules  | 504         |No. of Inverters| 6|\n",
    "|    Timezone      | Utc+5:30    |Voc/VMp     | 44.6/36.22V    |Inverter Capacity | 25KVa|\n",
    "| Module Model     | ss320P  |Isc/Imp     | 8.74A/8.31A    |\n",
    "| Inverter Model   |Sunny Tripower|No. of Modules in Series | 18|\n",
    "\n",
    "\n",
    "### How to Add custom module?\n",
    "\n"
   ]
  },
  {
   "cell_type": "code",
   "execution_count": 10,
   "metadata": {},
   "outputs": [],
   "source": [
    "pvlib_abspath = os.path.dirname(os.path.abspath(inspect.getfile(pvlib)))"
   ]
  },
  {
   "cell_type": "code",
   "execution_count": 11,
   "metadata": {},
   "outputs": [
    {
     "data": {
      "text/plain": [
       "'/home/limosin/miniconda3/envs/solarpv/lib/python3.7/site-packages/pvlib'"
      ]
     },
     "execution_count": 11,
     "metadata": {},
     "output_type": "execute_result"
    }
   ],
   "source": [
    "pvlib_abspath"
   ]
  },
  {
   "cell_type": "code",
   "execution_count": null,
   "metadata": {},
   "outputs": [],
   "source": []
  }
 ],
 "metadata": {
  "kernelspec": {
   "display_name": "Python 3",
   "language": "python",
   "name": "python3"
  },
  "language_info": {
   "codemirror_mode": {
    "name": "ipython",
    "version": 3
   },
   "file_extension": ".py",
   "mimetype": "text/x-python",
   "name": "python",
   "nbconvert_exporter": "python",
   "pygments_lexer": "ipython3",
   "version": "3.7.1"
  }
 },
 "nbformat": 4,
 "nbformat_minor": 2
}
