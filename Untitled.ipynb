{
 "cells": [
  {
   "cell_type": "markdown",
   "metadata": {},
   "source": [
    "# Pvlib Library"
   ]
  },
  {
   "cell_type": "markdown",
   "metadata": {},
   "source": [
    "Written by __[Somil Singhai](https://www.linkedin.com/in/ss1804)__ on 29 December 2018\n",
    "\n",
    "A number of Example Python notebooks and examples are available.\n",
    "-  Example [Jupyter notebooks](https://nbviewer.jupyter.org/github/pvlib/pvlib-python/tree/master/docs/tutorials/) available.\n",
    "-  [Projects and Publications](https://github.com/pvlib/pvlib-python/wiki/Projects-and-publications-that-use-pvlib-python) that use pvlib python.\n",
    "-  [Variable naming](https://pvlib-python.readthedocs.io/en/latest/variables_style_rules.html#variables-style-rules) convention to ensure consistency throughout the library."
   ]
  },
  {
   "cell_type": "code",
   "execution_count": 9,
   "metadata": {},
   "outputs": [
    {
     "name": "stdout",
     "output_type": "stream",
     "text": [
      "pvlib version : 0.6.0\n"
     ]
    }
   ],
   "source": [
    "#Importing the pvlib library\n",
    "import pvlib\n",
    "print('pvlib version :', pvlib.__version__)"
   ]
  },
  {
   "cell_type": "code",
   "execution_count": null,
   "metadata": {},
   "outputs": [],
   "source": [
    "#To get solar Position\n",
    "#solpos = pvlib.solarposition.get_solarposition(times, latitude, longitude)"
   ]
  },
  {
   "cell_type": "code",
   "execution_count": 10,
   "metadata": {},
   "outputs": [],
   "source": [
    "# dni_extra = pvlib.irradiance.get_extra_radiation(times)"
   ]
  },
  {
   "cell_type": "code",
   "execution_count": null,
   "metadata": {},
   "outputs": [],
   "source": [
    "#airmass = pvlib.atmosphere.get_relative_airmass(solpos['apparent_zenith'])\n",
    "#pressure = pvlib.atmosphere.alt2pres(altitude)\n",
    "#am_abs = pvlib.atmosphere.get_absolute_airmass(airmass, pressure)"
   ]
  }
 ],
 "metadata": {
  "kernelspec": {
   "display_name": "Python 3",
   "language": "python",
   "name": "python3"
  },
  "language_info": {
   "codemirror_mode": {
    "name": "ipython",
    "version": 3
   },
   "file_extension": ".py",
   "mimetype": "text/x-python",
   "name": "python",
   "nbconvert_exporter": "python",
   "pygments_lexer": "ipython3",
   "version": "3.7.1"
  }
 },
 "nbformat": 4,
 "nbformat_minor": 2
}
