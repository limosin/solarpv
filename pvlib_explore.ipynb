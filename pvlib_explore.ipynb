{
 "cells": [
  {
   "cell_type": "code",
   "execution_count": 3,
   "metadata": {},
   "outputs": [],
   "source": [
    "#Hide Warnings\n",
    "import warnings\n",
    "warnings.filterwarnings('ignore')\n",
    "%matplotlib inline"
   ]
  },
  {
   "cell_type": "markdown",
   "metadata": {},
   "source": [
    "__Things to add in this notebook__\n",
    "- links to other repos using pvlib."
   ]
  },
  {
   "cell_type": "markdown",
   "metadata": {},
   "source": [
    "# Pvlib Library"
   ]
  },
  {
   "cell_type": "markdown",
   "metadata": {},
   "source": [
    "Written by __[Somil Singhai](https://www.linkedin.com/in/ss1804)__ on 29 December 2018.\n",
    "\n",
    "__Note__: A lot of codes have been copied from the official documentation. I have just compiled them here for quick referance!\n",
    "\n",
    "A number of Example Python notebooks and examples are available.\n",
    "-  Example [Jupyter notebooks](https://nbviewer.jupyter.org/github/pvlib/pvlib-python/tree/master/docs/tutorials/) available.\n",
    "-  [Projects and Publications](https://github.com/pvlib/pvlib-python/wiki/Projects-and-publications-that-use-pvlib-python) that use pvlib python.\n",
    "-  [Variable naming](https://pvlib-python.readthedocs.io/en/latest/variables_style_rules.html#variables-style-rules) convention to ensure consistency throughout the library."
   ]
  },
  {
   "cell_type": "code",
   "execution_count": 4,
   "metadata": {},
   "outputs": [
    {
     "name": "stdout",
     "output_type": "stream",
     "text": [
      "pvlib version : 0.6.0\n"
     ]
    }
   ],
   "source": [
    "#Importing the pvlib library\n",
    "import pvlib\n",
    "print('pvlib version :', pvlib.__version__)"
   ]
  },
  {
   "cell_type": "code",
   "execution_count": 5,
   "metadata": {},
   "outputs": [],
   "source": [
    "#To get solar Position\n",
    "#solpos = pvlib.solarposition.get_solarposition(times, latitude, longitude)"
   ]
  },
  {
   "cell_type": "code",
   "execution_count": 6,
   "metadata": {},
   "outputs": [],
   "source": [
    "# dni_extra = pvlib.irradiance.get_extra_radiation(times)"
   ]
  },
  {
   "cell_type": "code",
   "execution_count": 7,
   "metadata": {},
   "outputs": [],
   "source": [
    "#airmass = pvlib.atmosphere.get_relative_airmass(solpos['apparent_zenith'])\n",
    "#pressure = pvlib.atmosphere.alt2pres(altitude)\n",
    "#am_abs = pvlib.atmosphere.get_absolute_airmass(airmass, pressure)"
   ]
  },
  {
   "cell_type": "markdown",
   "metadata": {},
   "source": [
    "## Calculating yearly energy yield\n",
    "for a given hardware configuration"
   ]
  },
  {
   "cell_type": "code",
   "execution_count": 8,
   "metadata": {},
   "outputs": [],
   "source": [
    "import pandas as pd\n",
    "import matplotlib.pyplot as plt\n",
    "\n",
    "naive_times = pd.DatetimeIndex(start='2015', end='2016', freq='1h')\n",
    "\n",
    "# very approximate\n",
    "# latitude, longitude, name, altitude, timezone\n",
    "coordinates = [(30, -110, 'Tucson', 700, 'Etc/GMT+7'),\n",
    "                (35, -105, 'Albuquerque', 1500, 'Etc/GMT+7'),\n",
    "                (40, -120, 'San Francisco', 10, 'Etc/GMT+8'),\n",
    "                (50, 10, 'Berlin', 34, 'Etc/GMT-1')]\n",
    "\n",
    "import pvlib\n",
    "\n",
    "# get the module and inverter specifications from SAM\n",
    "sandia_modules = pvlib.pvsystem.retrieve_sam('SandiaMod')\n",
    "sapm_inverters = pvlib.pvsystem.retrieve_sam('cecinverter')\n",
    "module = sandia_modules['Canadian_Solar_CS5P_220M___2009_']\n",
    "inverter = sapm_inverters['ABB__MICRO_0_25_I_OUTD_US_208_208V__CEC_2014_']\n",
    "# specify constant ambient air temp and wind for simplicity\n",
    "temp_air = 20\n",
    "\n",
    "wind_speed = 0"
   ]
  },
  {
   "cell_type": "markdown",
   "metadata": {},
   "source": [
    "The following code demonstrates how to use the procedural code to accomoplish our system modeling goal.\n",
    "\n",
    "__Insights__\n",
    "- Need to get the corresponding plant inverter model.\n",
    "- pd.tz_localize(_timezone_) is used to add timezone attribute to the pd time series.\n",
    "- `pvlib.irradiance.get_extra_radiation` :     Determine extraterrestrial radiation from day of year.\n",
    "- [Zenith](https://en.wikipedia.org/wiki/Zenith) angle.\n",
    "- `pvlib.irradiance.aoi` - angle of incidence of solar vector.\n",
    "- `irradiance.get_total_irradiance` - takes a lot of parameters. [Refer](https://pvlib-python.readthedocs.io/en/latest/generated/pvlib.irradiance.get_total_irradiance.html) here.\n",
    "- Sandia Photovoltaic Array Performance model.\n",
    "\n"
   ]
  },
  {
   "cell_type": "code",
   "execution_count": 9,
   "metadata": {},
   "outputs": [
    {
     "name": "stdout",
     "output_type": "stream",
     "text": [
      "Tucson           467740.0\n",
      "Albuquerque      500451.0\n",
      "San Francisco    440046.0\n",
      "Berlin           383547.0\n",
      "dtype: float64 \n",
      "\n"
     ]
    },
    {
     "data": {
      "text/plain": [
       "Text(0, 0.5, 'Yearly energy yield (W hr)')"
      ]
     },
     "execution_count": 9,
     "metadata": {},
     "output_type": "execute_result"
    },
    {
     "data": {
      "image/png": "[encoded data removed]",
      "text/plain": [
       "<Figure size 432x288 with 1 Axes>"
      ]
     },
     "metadata": {
      "needs_background": "light"
     },
     "output_type": "display_data"
    }
   ],
   "source": [
    "system = {'module': module, 'inverter': inverter,\n",
    "         'surface_azimuth': 180}\n",
    "\n",
    "\n",
    "energies = {}\n",
    "\n",
    "for latitude, longitude, name, altitude, timezone in coordinates:\n",
    "    times = naive_times.tz_localize(timezone)\n",
    "    system['surface_tilt'] = latitude\n",
    "    solpos = pvlib.solarposition.get_solarposition(times, latitude, longitude)\n",
    "    dni_extra = pvlib.irradiance.get_extra_radiation(times)\n",
    "    airmass = pvlib.atmosphere.get_relative_airmass(solpos['apparent_zenith'])\n",
    "    pressure = pvlib.atmosphere.alt2pres(altitude)\n",
    "    am_abs = pvlib.atmosphere.get_absolute_airmass(airmass, pressure)\n",
    "    tl = pvlib.clearsky.lookup_linke_turbidity(times, latitude, longitude)\n",
    "    cs = pvlib.clearsky.ineichen(solpos['apparent_zenith'], am_abs, tl,\n",
    "                                  dni_extra=dni_extra, altitude=altitude)\n",
    "    aoi = pvlib.irradiance.aoi(system['surface_tilt'], system['surface_azimuth'],\n",
    "                                solpos['apparent_zenith'], solpos['azimuth'])\n",
    "    total_irrad = pvlib.irradiance.get_total_irradiance(system['surface_tilt'],\n",
    "                                                         system['surface_azimuth'],\n",
    "                                                         solpos['apparent_zenith'],\n",
    "                                                         solpos['azimuth'],\n",
    "                                                         cs['dni'], cs['ghi'], cs['dhi'],\n",
    "                                                         dni_extra=dni_extra,\n",
    "                                                         model='haydavies')\n",
    "    temps = pvlib.pvsystem.sapm_celltemp(total_irrad['poa_global'],\n",
    "                                          wind_speed, temp_air)\n",
    "    effective_irradiance = pvlib.pvsystem.sapm_effective_irradiance(\n",
    "         total_irrad['poa_direct'], total_irrad['poa_diffuse'],\n",
    "         am_abs, aoi, module)\n",
    "    dc = pvlib.pvsystem.sapm(effective_irradiance, temps['temp_cell'], module)\n",
    "    ac = pvlib.pvsystem.snlinverter(dc['v_mp'], dc['p_mp'], inverter)\n",
    "    annual_energy = ac.sum()\n",
    "    energies[name] = annual_energy\n",
    "\n",
    "energies = pd.Series(energies)\n",
    "\n",
    "print(energies.round(0),'\\n')\n",
    "energies.plot(kind='bar', rot=0)\n",
    "plt.ylabel('Yearly energy yield (W hr)')"
   ]
  },
  {
   "cell_type": "markdown",
   "metadata": {},
   "source": [
    "## Object Oriented Approach\n",
    "\n",
    "Use of `Location`,`PVSystem`,`ModelChain`."
   ]
  },
  {
   "cell_type": "code",
   "execution_count": 10,
   "metadata": {},
   "outputs": [
    {
     "name": "stdout",
     "output_type": "stream",
     "text": [
      "Tucson           467704.0\n",
      "Albuquerque      500372.0\n",
      "San Francisco    440046.0\n",
      "Berlin           383544.0\n",
      "dtype: float64\n"
     ]
    },
    {
     "data": {
      "text/plain": [
       "Text(0, 0.5, 'Yearly energy yield (W hr)')"
      ]
     },
     "execution_count": 10,
     "metadata": {},
     "output_type": "execute_result"
    },
    {
     "data": {
      "image/png": "[encoded data removed]",
      "text/plain": [
       "<Figure size 432x288 with 1 Axes>"
      ]
     },
     "metadata": {
      "needs_background": "light"
     },
     "output_type": "display_data"
    }
   ],
   "source": [
    "from pvlib.pvsystem import PVSystem\n",
    "\n",
    "from pvlib.location import Location\n",
    "\n",
    "from pvlib.modelchain import ModelChain\n",
    "\n",
    "system = PVSystem(module_parameters=module,\n",
    "                  inverter_parameters=inverter)\n",
    "\n",
    "\n",
    "energies = {}\n",
    "\n",
    "for latitude, longitude, name, altitude, timezone in coordinates:\n",
    "    times = naive_times.tz_localize(timezone)\n",
    "    location = Location(latitude, longitude, name=name, altitude=altitude,\n",
    "                            tz=timezone)\n",
    "    mc = ModelChain(system, location,\n",
    "                       orientation_strategy='south_at_latitude_tilt')\n",
    "    mc.run_model(times)\n",
    "    annual_energy = mc.ac.sum()\n",
    "    energies[name] = annual_energy\n",
    "\n",
    "\n",
    "energies = pd.Series(energies)\n",
    "\n",
    "print(energies.round(0))\n",
    "energies.plot(kind='bar', rot=0)\n",
    "plt.ylabel('Yearly energy yield (W hr)')"
   ]
  },
  {
   "cell_type": "markdown",
   "metadata": {},
   "source": [
    "__Insights__:\n",
    "- Ineichen and Perez clear sky model: `pvlib.clearsky.ineichen` - returns DNI, GHI, etc. [link](https://pvlib-python.readthedocs.io/en/latest/_modules/pvlib/clearsky.html)"
   ]
  },
  {
   "cell_type": "markdown",
   "metadata": {},
   "source": [
    "### Locallized PV system\n",
    "`LocalizedPVSystem()`"
   ]
  },
  {
   "cell_type": "code",
   "execution_count": 11,
   "metadata": {},
   "outputs": [
    {
     "data": {
      "text/plain": [
       "Text(0, 0.5, 'Yearly energy yield (W hr)')"
      ]
     },
     "execution_count": 11,
     "metadata": {},
     "output_type": "execute_result"
    },
    {
     "data": {
      "image/png": "[encoded data removed]",
      "text/plain": [
       "<Figure size 432x288 with 1 Axes>"
      ]
     },
     "metadata": {
      "needs_background": "light"
     },
     "output_type": "display_data"
    }
   ],
   "source": [
    "from pvlib.pvsystem import LocalizedPVSystem\n",
    "\n",
    "energies = {}\n",
    "\n",
    "for latitude, longitude, name, altitude, timezone in coordinates:\n",
    "    localized_system = LocalizedPVSystem(module_parameters=module,\n",
    "                                         inverter_parameters=inverter,\n",
    "                                         surface_tilt=latitude,\n",
    "                                         surface_azimuth=180,\n",
    "                                         latitude=latitude,\n",
    "                                         longitude=longitude,\n",
    "                                         name=name,\n",
    "                                         altitude=altitude,\n",
    "                                         tz=timezone)\n",
    "    times = naive_times.tz_localize(timezone)\n",
    "    clearsky = localized_system.get_clearsky(times)\n",
    "    solar_position = localized_system.get_solarposition(times)\n",
    "    total_irrad = localized_system.get_irradiance(solar_position['apparent_zenith'],\n",
    "                                                  solar_position['azimuth'],\n",
    "                                                  clearsky['dni'],\n",
    "                                                  clearsky['ghi'],\n",
    "                                                  clearsky['dhi'])\n",
    "    temps = localized_system.sapm_celltemp(total_irrad['poa_global'],\n",
    "                                           wind_speed, temp_air)\n",
    "    aoi = localized_system.get_aoi(solar_position['apparent_zenith'],\n",
    "                                   solar_position['azimuth'])\n",
    "    airmass = localized_system.get_airmass(solar_position=solar_position)\n",
    "    effective_irradiance = localized_system.sapm_effective_irradiance(\n",
    "        total_irrad['poa_direct'], total_irrad['poa_diffuse'],\n",
    "        airmass['airmass_absolute'], aoi)\n",
    "    dc = localized_system.sapm(effective_irradiance, temps['temp_cell'])\n",
    "    ac = localized_system.snlinverter(dc['v_mp'], dc['p_mp'])\n",
    "    annual_energy = ac.sum()\n",
    "    energies[name] = annual_energy\n",
    "\n",
    "energies = pd.Series(energies)\n",
    "energies.plot(kind='bar', rot=0)\n",
    "plt.ylabel('Yearly energy yield (W hr)')"
   ]
  },
  {
   "cell_type": "markdown",
   "metadata": {},
   "source": [
    "\n",
    "## `pvsystem.PVSystem()`\n",
    "[link](https://pvlib-python.readthedocs.io/en/latest/generated/pvlib.pvsystem.PVSystem.html#pvlib.pvsystem.PVSystem) for documentation.\n",
    "[Reference](https://pvlib-python.readthedocs.io/en/latest/pvsystem.html)\n",
    "\n",
    "Two types of data stored in object.\n",
    "- Intrinsic data: Example- the data that describes a PV system’s module parameters is stored in `PVSystem.module_parameters`.\n",
    "- Extrinsic data: passed to a PVSystem as method arguments. For example, the `pvwatts_dc()` method accepts extrinsic data irradiance and temperature.\n",
    "\n",
    "Multiple methods may pull data from the same attribute. For example, the PVSystem.module_parameters attribute is used by the DC model methods as well as the incidence angle modifier methods."
   ]
  },
  {
   "cell_type": "code",
   "execution_count": 12,
   "metadata": {},
   "outputs": [
    {
     "name": "stdout",
     "output_type": "stream",
     "text": [
      "{'pdc0': 10, 'gamma_pdc': -0.004}\n",
      "\n",
      " 9.8\n"
     ]
    }
   ],
   "source": [
    "# Intrinsic Data storage\n",
    "from pvlib import pvsystem\n",
    "module_parameters = {'pdc0': 10, 'gamma_pdc': -0.004}\n",
    "\n",
    "system = pvsystem.PVSystem(module_parameters=module_parameters)\n",
    "\n",
    "print(system.module_parameters)\n",
    "\n",
    "pdc = system.pvwatts_dc(1000, 30)\n",
    "\n",
    "print('\\n',pdc)"
   ]
  },
  {
   "cell_type": "markdown",
   "metadata": {},
   "source": [
    "## `ModelChain()`\n",
    "- A ModelChain is composed of a PVSystem object and a Location object\n",
    "\n",
    "__Examples__"
   ]
  },
  {
   "cell_type": "code",
   "execution_count": 13,
   "metadata": {},
   "outputs": [],
   "source": [
    "import pandas as pd\n",
    "\n",
    "import numpy as np\n",
    "\n",
    "# pvlib imports\n",
    "import pvlib\n",
    "\n",
    "from pvlib.pvsystem import PVSystem\n",
    "\n",
    "from pvlib.location import Location\n",
    "\n",
    "from pvlib.modelchain import ModelChain\n",
    "\n",
    "#load some module and inverter specifications\n",
    "sandia_modules = pvlib.pvsystem.retrieve_sam('SandiaMod')\n",
    "\n",
    "cec_inverters = pvlib.pvsystem.retrieve_sam('cecinverter')\n",
    "\n",
    "sandia_module = sandia_modules['Canadian_Solar_CS5P_220M___2009_']\n",
    "\n",
    "cec_inverter = cec_inverters['ABB__MICRO_0_25_I_OUTD_US_208_208V__CEC_2014_']"
   ]
  },
  {
   "cell_type": "markdown",
   "metadata": {},
   "source": [
    "Now we create a `Location` object, a PVSystem object and a `ModelChain` object"
   ]
  },
  {
   "cell_type": "code",
   "execution_count": 18,
   "metadata": {},
   "outputs": [
    {
     "name": "stdout",
     "output_type": "stream",
     "text": [
      "ModelChain: \n",
      "  name: None\n",
      "  orientation_strategy: None\n",
      "  clearsky_model: ineichen\n",
      "  transposition_model: haydavies\n",
      "  solar_position_method: nrel_numpy\n",
      "  airmass_model: kastenyoung1989\n",
      "  dc_model: sapm\n",
      "  ac_model: snlinverter\n",
      "  aoi_model: sapm_aoi_loss\n",
      "  spectral_model: sapm_spectral_loss\n",
      "  temp_model: sapm_temp\n",
      "  losses_model: no_extra_losses\n",
      "2017-04-01 12:00:00-07:00    15.929176\n",
      "Name: aoi, dtype: float64\n",
      "                               i_sc      i_mp       v_oc       v_mp  \\\n",
      "2017-04-01 12:00:00-07:00  5.485958  4.860317  52.319047  40.585752   \n",
      "\n",
      "                                 p_mp       i_x      i_xx  \n",
      "2017-04-01 12:00:00-07:00  197.259628  5.363079  3.401315  \n",
      "2017-04-01 12:00:00-07:00    189.915445\n",
      "dtype: float64\n"
     ]
    }
   ],
   "source": [
    "location = Location(latitude=32.2, longitude=-110.9)\n",
    "\n",
    "system = PVSystem(surface_tilt=20, surface_azimuth=200,\n",
    "                  module_parameters=sandia_module,\n",
    "                  inverter_parameters=cec_inverter)\n",
    "\n",
    "mc = ModelChain(system, location)\n",
    "print(mc)\n",
    "\n",
    "weather = pd.DataFrame([[1050, 1000, 100, 30, 5]],\n",
    "                       columns=['ghi', 'dni', 'dhi', 'temp_air', 'wind_speed'],\n",
    "                       index=[pd.Timestamp('20170401 1200', tz='US/Arizona')])\n",
    "\n",
    "\n",
    "mc.run_model(times=weather.index, weather=weather)\n",
    "print(mc.aoi)\n",
    "print(mc.dc)\n",
    "print(mc.ac)"
   ]
  },
  {
   "cell_type": "markdown",
   "metadata": {},
   "source": [
    "## Demystifying ModelChain internals\n",
    "The ModelChain class has a lot going in inside it in order to make users’ code as simple as possible.\n",
    "\n",
    "The key parts of ModelChain are:\n",
    "\n",
    "1. The `ModelChain.run_model()` method\n",
    "2. A set of methods that wrap and call the PVSystem methods.\n",
    "3. A set of methods that inspect user-supplied objects to determine the appropriate default models."
   ]
  },
  {
   "cell_type": "code",
   "execution_count": null,
   "metadata": {},
   "outputs": [],
   "source": []
  },
  {
   "cell_type": "code",
   "execution_count": null,
   "metadata": {},
   "outputs": [],
   "source": []
  },
  {
   "cell_type": "code",
   "execution_count": null,
   "metadata": {},
   "outputs": [],
   "source": []
  }
 ],
 "metadata": {
  "kernelspec": {
   "display_name": "Python 3",
   "language": "python",
   "name": "python3"
  },
  "language_info": {
   "codemirror_mode": {
    "name": "ipython",
    "version": 3
   },
   "file_extension": ".py",
   "mimetype": "text/x-python",
   "name": "python",
   "nbconvert_exporter": "python",
   "pygments_lexer": "ipython3",
   "version": "3.7.1"
  }
 },
 "nbformat": 4,
 "nbformat_minor": 2
}
