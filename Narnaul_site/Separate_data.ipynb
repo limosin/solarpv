{
 "cells": [
  {
   "cell_type": "code",
   "execution_count": 1,
   "metadata": {},
   "outputs": [],
   "source": [
    "# Importing the libraries\n",
    "import numpy as np\n",
    "import matplotlib.pyplot as plt\n",
    "import pandas as pd"
   ]
  },
  {
   "cell_type": "code",
   "execution_count": 21,
   "metadata": {},
   "outputs": [],
   "source": [
    "solar_data_path = 'data/solar/'\n",
    "#Data file name = Ground_PowerPlant_Narnaul_Inverter_ABB-PVS800.csv'\n",
    "Weather_data_path = 'data/Weather Data/'\n",
    "#Data file name = Data.csv'"
   ]
  },
  {
   "cell_type": "code",
   "execution_count": 22,
   "metadata": {},
   "outputs": [],
   "source": [
    "Area_codes = {1810:'Churu', 1934:'Gurgaon'}"
   ]
  },
  {
   "cell_type": "code",
   "execution_count": 31,
   "metadata": {},
   "outputs": [],
   "source": [
    "#Importing the weather parameters from Parameters.csv\n",
    "Weather_params = pd.read_csv(Weather_data_path+'Parameters.csv',names={1,2,3})\n",
    "Weather_params.columns = ['Code', 'Quantity', 'Unit']"
   ]
  },
  {
   "cell_type": "code",
   "execution_count": 75,
   "metadata": {},
   "outputs": [
    {
     "data": {
      "text/plain": [
       "array(['Battery Level (V)', 'Relative Humidity (%)',\n",
       "       'Air Temperature (°C)', 'Wind Speed (m/s)', 'Wind Direction (°)',\n",
       "       'Dew Point (°C)', 'Global Radiation 1 (W/m2)',\n",
       "       'Diffuse Radiation (W/m2)', 'Atmospheric Pressure QNH (mb)',\n",
       "       'Atmospheric Pressure QFE (mb)', 'Direct Radiation 1 (W/m2)',\n",
       "       'Solar Azimuth (°)', 'Global Energy 1 (kWh/m2)',\n",
       "       'Diffuse Energy 1 (kWh/m2)', 'Direct Energy 1 (kWh/m2)',\n",
       "       'Global Energy 1 (MJ/m2)', 'Diffuse Energy 1 (MJ/m2)',\n",
       "       'Direct Energy 1 (MJ/m2)'], dtype=object)"
      ]
     },
     "execution_count": 75,
     "metadata": {},
     "output_type": "execute_result"
    }
   ],
   "source": [
    "Weather_params.Quantity.values"
   ]
  },
  {
   "cell_type": "code",
   "execution_count": 33,
   "metadata": {},
   "outputs": [],
   "source": [
    "if 'Code' in Weather_params.columns:\n",
    "    #Combining the units and quantities into a single column\n",
    "    Weather_params['Quantity'] = Weather_params['Quantity'] + \" (\"+ Weather_params['Unit']+\")\"\n",
    "\n",
    "    #Dropping the code column\n",
    "    Weather_params.drop('Unit', axis=1,inplace=True)\n",
    "\n",
    "#Constructing a dictionary out of these two columns\n",
    "Param_dict = dict(zip(Weather_params['Code'].values, Weather_params['Quantity'].values))\n",
    "keys_of_param_dict = [n for n in Param_dict.keys()]"
   ]
  },
  {
   "cell_type": "code",
   "execution_count": 34,
   "metadata": {},
   "outputs": [],
   "source": [
    "#Now loading the main weather dataset.\n",
    "Weather_data_temp = pd.read_csv(Weather_data_path+'Data.csv', names={'Timestamp', 'Parameter', 'Value', 'Area'},header=None)\n",
    "Weather_data_temp.columns = ['Timestamp', 'Parameter', 'Value', 'Area']"
   ]
  },
  {
   "cell_type": "markdown",
   "metadata": {},
   "source": [
    "### Separating the data for Churu and Gurgaon\n",
    "Since for now their doesn't seems to be any utility for keeping them in a single dataset"
   ]
  },
  {
   "cell_type": "code",
   "execution_count": 47,
   "metadata": {},
   "outputs": [
    {
     "name": "stderr",
     "output_type": "stream",
     "text": [
      "/home/somil/miniconda3/envs/solarpv/lib/python3.7/site-packages/pandas/core/frame.py:3697: SettingWithCopyWarning: \n",
      "A value is trying to be set on a copy of a slice from a DataFrame\n",
      "\n",
      "See the caveats in the documentation: http://pandas.pydata.org/pandas-docs/stable/indexing.html#indexing-view-versus-copy\n",
      "  errors=errors)\n"
     ]
    }
   ],
   "source": [
    "Weather_data_temp_churu = Weather_data_temp[Weather_data_temp['Area']==1810]\n",
    "Weather_data_temp_churu.drop('Area', axis = 1, inplace=True)\n",
    "Weather_data_temp_gurg =Weather_data_temp[Weather_data_temp['Area']==1934]\n",
    "Weather_data_temp_gurg.drop('Area', axis = 1, inplace=True)\n",
    "Weather_data_temp_gurg.reset_index(inplace=True)\n",
    "Weather_data_temp_gurg.drop('index', axis = 1,inplace =True)"
   ]
  },
  {
   "cell_type": "code",
   "execution_count": null,
   "metadata": {},
   "outputs": [],
   "source": [
    "columns_list = list(Weather_params.Quantity.values)\n",
    "columns_list.insert(0,'Datetime')"
   ]
  },
  {
   "cell_type": "markdown",
   "metadata": {},
   "source": [
    "## Making a new dataframe for weather of Churu"
   ]
  },
  {
   "cell_type": "code",
   "execution_count": 134,
   "metadata": {},
   "outputs": [
    {
     "name": "stderr",
     "output_type": "stream",
     "text": [
      "/home/somil/miniconda3/envs/solarpv/lib/python3.7/site-packages/pandas/core/frame.py:3697: SettingWithCopyWarning: \n",
      "A value is trying to be set on a copy of a slice from a DataFrame\n",
      "\n",
      "See the caveats in the documentation: http://pandas.pydata.org/pandas-docs/stable/indexing.html#indexing-view-versus-copy\n",
      "  errors=errors)\n"
     ]
    }
   ],
   "source": [
    "datetime = Weather_data_temp_churu.Timestamp.unique()\n",
    "\n",
    "new_df = pd.DataFrame(columns=columns_list)\n",
    "new_df['Datetime'] = datetime\n",
    "new_df.index = datetime\n",
    "new_df.drop('Datetime', axis=1, inplace=True)\n",
    "\n",
    "\n",
    "for Para in Param_dict.keys():\n",
    "    mini_df = Weather_data_temp_churu[Weather_data_temp_churu['Parameter']==Para]\n",
    "    mini_df.drop('Parameter', axis=1, inplace=True)\n",
    "    #print(mini_df.Value.values.size)\n",
    "    new_df.loc[mini_df.Timestamp.values, Param_dict[Para]] = mini_df.Value.values"
   ]
  },
  {
   "cell_type": "code",
   "execution_count": 135,
   "metadata": {},
   "outputs": [],
   "source": [
    "new_df.to_csv('data/Weather Data/Data_churu.csv')"
   ]
  },
  {
   "cell_type": "markdown",
   "metadata": {},
   "source": [
    "## Using the same process for Gurgaon"
   ]
  },
  {
   "cell_type": "code",
   "execution_count": 136,
   "metadata": {},
   "outputs": [
    {
     "name": "stderr",
     "output_type": "stream",
     "text": [
      "/home/somil/miniconda3/envs/solarpv/lib/python3.7/site-packages/ipykernel_launcher.py:10: UserWarning: Boolean Series key will be reindexed to match DataFrame index.\n",
      "  # Remove the CWD from sys.path while we load stuff.\n"
     ]
    }
   ],
   "source": [
    "datetime = Weather_data_temp_gurg.Timestamp.unique()\n",
    "\n",
    "new_df = pd.DataFrame(columns=columns_list)\n",
    "new_df['Datetime'] = datetime\n",
    "new_df.index = datetime\n",
    "new_df.drop('Datetime', axis=1, inplace=True)\n",
    "\n",
    "\n",
    "for Para in Param_dict.keys():\n",
    "    mini_df = Weather_data_temp_gurg[Weather_data_temp_churu['Parameter']==Para]\n",
    "    mini_df.drop('Parameter', axis=1, inplace=True)\n",
    "    #print(mini_df.Value.values.size)\n",
    "    new_df.loc[mini_df.Timestamp.values, Param_dict[Para]] = mini_df.Value.values"
   ]
  },
  {
   "cell_type": "code",
   "execution_count": 137,
   "metadata": {},
   "outputs": [],
   "source": [
    "new_df.to_csv('data/Weather Data/Data_gurg.csv')"
   ]
  },
  {
   "cell_type": "code",
   "execution_count": null,
   "metadata": {},
   "outputs": [],
   "source": []
  },
  {
   "cell_type": "code",
   "execution_count": null,
   "metadata": {},
   "outputs": [],
   "source": []
  }
 ],
 "metadata": {
  "kernelspec": {
   "display_name": "Python 3",
   "language": "python",
   "name": "python3"
  },
  "language_info": {
   "codemirror_mode": {
    "name": "ipython",
    "version": 3
   },
   "file_extension": ".py",
   "mimetype": "text/x-python",
   "name": "python",
   "nbconvert_exporter": "python",
   "pygments_lexer": "ipython3",
   "version": "3.7.1"
  }
 },
 "nbformat": 4,
 "nbformat_minor": 2
}
